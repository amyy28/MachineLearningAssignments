{
 "cells": [
  {
   "cell_type": "code",
   "execution_count": 4,
   "metadata": {},
   "outputs": [],
   "source": [
    "\n",
    "import pandas as pd \n",
    "import random\n",
    "\n",
    "\n",
    "  \n",
    " \n",
    "data = {'Feature1':[random.random() for i in range(100)], 'Feature2':[random.random() for i in range(100)], 'Feature3':[random.random() for i in range(100)], 'Feature4':[random.random() for i in range(100)],'Output':[round(random.random()) for i in range(100)]} \n",
    "  \n",
    "\n",
    "df = pd.DataFrame(data) \n",
    "  \n",
    "\n",
    "df.to_csv(\"dataset.csv\",index=False)"
   ]
  },
  {
   "cell_type": "code",
   "execution_count": 5,
   "metadata": {},
   "outputs": [
    {
     "data": {
      "text/html": [
       "<div>\n",
       "<style scoped>\n",
       "    .dataframe tbody tr th:only-of-type {\n",
       "        vertical-align: middle;\n",
       "    }\n",
       "\n",
       "    .dataframe tbody tr th {\n",
       "        vertical-align: top;\n",
       "    }\n",
       "\n",
       "    .dataframe thead th {\n",
       "        text-align: right;\n",
       "    }\n",
       "</style>\n",
       "<table border=\"1\" class=\"dataframe\">\n",
       "  <thead>\n",
       "    <tr style=\"text-align: right;\">\n",
       "      <th></th>\n",
       "      <th>Feature1</th>\n",
       "      <th>Feature2</th>\n",
       "      <th>Feature3</th>\n",
       "      <th>Feature4</th>\n",
       "      <th>Output</th>\n",
       "    </tr>\n",
       "  </thead>\n",
       "  <tbody>\n",
       "    <tr>\n",
       "      <th>0</th>\n",
       "      <td>0.709308</td>\n",
       "      <td>0.625810</td>\n",
       "      <td>0.157136</td>\n",
       "      <td>0.480524</td>\n",
       "      <td>1</td>\n",
       "    </tr>\n",
       "    <tr>\n",
       "      <th>1</th>\n",
       "      <td>0.775769</td>\n",
       "      <td>0.607625</td>\n",
       "      <td>0.979748</td>\n",
       "      <td>0.322200</td>\n",
       "      <td>1</td>\n",
       "    </tr>\n",
       "    <tr>\n",
       "      <th>2</th>\n",
       "      <td>0.367940</td>\n",
       "      <td>0.835908</td>\n",
       "      <td>0.856000</td>\n",
       "      <td>0.723671</td>\n",
       "      <td>0</td>\n",
       "    </tr>\n",
       "    <tr>\n",
       "      <th>3</th>\n",
       "      <td>0.630106</td>\n",
       "      <td>0.759891</td>\n",
       "      <td>0.800567</td>\n",
       "      <td>0.073295</td>\n",
       "      <td>0</td>\n",
       "    </tr>\n",
       "    <tr>\n",
       "      <th>4</th>\n",
       "      <td>0.365873</td>\n",
       "      <td>0.679899</td>\n",
       "      <td>0.377382</td>\n",
       "      <td>0.402084</td>\n",
       "      <td>0</td>\n",
       "    </tr>\n",
       "  </tbody>\n",
       "</table>\n",
       "</div>"
      ],
      "text/plain": [
       "   Feature1  Feature2  Feature3  Feature4  Output\n",
       "0  0.709308  0.625810  0.157136  0.480524       1\n",
       "1  0.775769  0.607625  0.979748  0.322200       1\n",
       "2  0.367940  0.835908  0.856000  0.723671       0\n",
       "3  0.630106  0.759891  0.800567  0.073295       0\n",
       "4  0.365873  0.679899  0.377382  0.402084       0"
      ]
     },
     "execution_count": 5,
     "metadata": {},
     "output_type": "execute_result"
    }
   ],
   "source": [
    "df = pd.read_csv(\"dataset.csv\")\n",
    "df.head()"
   ]
  }
 ],
 "metadata": {
  "kernelspec": {
   "display_name": "Python 3",
   "language": "python",
   "name": "python3"
  },
  "language_info": {
   "codemirror_mode": {
    "name": "ipython",
    "version": 3
   },
   "file_extension": ".py",
   "mimetype": "text/x-python",
   "name": "python",
   "nbconvert_exporter": "python",
   "pygments_lexer": "ipython3",
   "version": "3.7.3"
  }
 },
 "nbformat": 4,
 "nbformat_minor": 2
}
