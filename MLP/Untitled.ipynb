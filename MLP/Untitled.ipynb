{
 "cells": [
  {
   "cell_type": "code",
   "execution_count": 223,
   "metadata": {},
   "outputs": [],
   "source": [
    "\n",
    "import pandas as pd \n",
    "import random\n",
    "import numpy as np\n",
    "from sklearn.model_selection import train_test_split\n",
    "\n",
    "  \n",
    " \n",
    "data = {'Feature1':[random.uniform(0, 6) for i in range(100)], 'Feature2':[random.uniform(0, 6) for i in range(100)], 'Feature3':[random.uniform(0, 6) for i in range(100)], 'Feature4':[random.uniform(0,6) for i in range(100)],'Output':[round(random.random()) for i in range(100)]} \n",
    "  \n",
    "\n",
    "df = pd.DataFrame(data) \n",
    "  \n",
    "\n",
    "df.to_csv(\"dataset.csv\",index=False)"
   ]
  },
  {
   "cell_type": "code",
   "execution_count": 209,
   "metadata": {},
   "outputs": [
    {
     "data": {
      "text/html": [
       "<div>\n",
       "<style scoped>\n",
       "    .dataframe tbody tr th:only-of-type {\n",
       "        vertical-align: middle;\n",
       "    }\n",
       "\n",
       "    .dataframe tbody tr th {\n",
       "        vertical-align: top;\n",
       "    }\n",
       "\n",
       "    .dataframe thead th {\n",
       "        text-align: right;\n",
       "    }\n",
       "</style>\n",
       "<table border=\"1\" class=\"dataframe\">\n",
       "  <thead>\n",
       "    <tr style=\"text-align: right;\">\n",
       "      <th></th>\n",
       "      <th>Feature1</th>\n",
       "      <th>Feature2</th>\n",
       "      <th>Feature3</th>\n",
       "      <th>Feature4</th>\n",
       "      <th>Output</th>\n",
       "    </tr>\n",
       "  </thead>\n",
       "  <tbody>\n",
       "    <tr>\n",
       "      <th>0</th>\n",
       "      <td>4.022811</td>\n",
       "      <td>4.161103</td>\n",
       "      <td>1.603572</td>\n",
       "      <td>5.293887</td>\n",
       "      <td>0</td>\n",
       "    </tr>\n",
       "    <tr>\n",
       "      <th>1</th>\n",
       "      <td>5.963335</td>\n",
       "      <td>1.846352</td>\n",
       "      <td>4.446231</td>\n",
       "      <td>4.105410</td>\n",
       "      <td>0</td>\n",
       "    </tr>\n",
       "    <tr>\n",
       "      <th>2</th>\n",
       "      <td>5.104148</td>\n",
       "      <td>1.311937</td>\n",
       "      <td>2.675536</td>\n",
       "      <td>5.032620</td>\n",
       "      <td>0</td>\n",
       "    </tr>\n",
       "    <tr>\n",
       "      <th>3</th>\n",
       "      <td>3.267742</td>\n",
       "      <td>1.820926</td>\n",
       "      <td>5.261033</td>\n",
       "      <td>1.375028</td>\n",
       "      <td>0</td>\n",
       "    </tr>\n",
       "    <tr>\n",
       "      <th>4</th>\n",
       "      <td>2.211775</td>\n",
       "      <td>0.401468</td>\n",
       "      <td>5.787743</td>\n",
       "      <td>3.124488</td>\n",
       "      <td>1</td>\n",
       "    </tr>\n",
       "  </tbody>\n",
       "</table>\n",
       "</div>"
      ],
      "text/plain": [
       "   Feature1  Feature2  Feature3  Feature4  Output\n",
       "0  4.022811  4.161103  1.603572  5.293887       0\n",
       "1  5.963335  1.846352  4.446231  4.105410       0\n",
       "2  5.104148  1.311937  2.675536  5.032620       0\n",
       "3  3.267742  1.820926  5.261033  1.375028       0\n",
       "4  2.211775  0.401468  5.787743  3.124488       1"
      ]
     },
     "execution_count": 209,
     "metadata": {},
     "output_type": "execute_result"
    }
   ],
   "source": [
    "df = pd.read_csv(\"dataset.csv\")\n",
    "df.head()\n",
    "\n"
   ]
  },
  {
   "cell_type": "code",
   "execution_count": 233,
   "metadata": {},
   "outputs": [
    {
     "name": "stdout",
     "output_type": "stream",
     "text": [
      "[26.         -0.96675842 -9.93053051 -1.23401523  7.23871628]\n"
     ]
    }
   ],
   "source": [
    "#perceptron\n",
    "\n",
    "class Perceptron:\n",
    "    def __init__(self,input_size,epochs=100,alpha=1):\n",
    "        self.epochs = epochs\n",
    "        self.alpha = alpha\n",
    "#         self.input_size = input_size\n",
    "        weight = [random.random() for i in range(input_size+1)]\n",
    "        weight[0] = 1.0\n",
    "        self.weight = weight\n",
    "#         self.weight = np.zeros(input_size+1)\n",
    "    def activation(self,x):\n",
    "        return 1 if x>=0 else 0\n",
    "    def predict(self,x):\n",
    "#         print(self.weight.T)\n",
    "#         print(X)\n",
    "       \n",
    "        z = np.dot(self.weight,x)\n",
    "#         print(z)\n",
    "#         print(self.activation(z))\n",
    "        a = self.activation(z)\n",
    "        return a\n",
    "   \n",
    "        \n",
    "    def learn(self,X,d):\n",
    "        for _ in range(self.epochs):\n",
    "            for i in range(d.shape[0]):\n",
    "                x = np.insert(X[i],0,1)\n",
    "                y = self.predict(x)\n",
    "                e = d[i] - y\n",
    "                self.weight = self.weight + self.alpha*e*x\n",
    "#             print(self.weight)\n",
    "                \n",
    "                \n",
    "if __name__ == '__main__':\n",
    "\n",
    "    \n",
    "    d = df[\"Output\"].values\n",
    "    X = df.drop('Output',axis=1).values\n",
    "    \n",
    "    X_train, X_test, y_train, y_test = train_test_split(X,d, test_size=0.33, random_state=42)\n",
    " \n",
    "    perceptron = Perceptron(input_size=4)\n",
    "    perceptron.learn(X_train,y_train )\n",
    "    print(perceptron.weight)\n",
    "\n",
    "\n",
    "\n",
    "\n"
   ]
  },
  {
   "cell_type": "code",
   "execution_count": 234,
   "metadata": {},
   "outputs": [
    {
     "name": "stdout",
     "output_type": "stream",
     "text": [
      "Accuracy = 0.5757575757575758\n"
     ]
    }
   ],
   "source": [
    "from sklearn.metrics import accuracy_score\n",
    "\n",
    "y_pred = []\n",
    "for i in range(X_test.shape[0]):\n",
    "    x= np.insert(X_test[i],0,1)\n",
    "    y_pred.append(perceptron.predict(x))\n",
    "\n",
    "# print(y_pred)\n",
    "print(\"Accuracy = \" +str(accuracy_score(y_test, y_pred)))\n",
    "# perceptron.weight"
   ]
  },
  {
   "cell_type": "code",
   "execution_count": 235,
   "metadata": {},
   "outputs": [
    {
     "name": "stdout",
     "output_type": "stream",
     "text": [
      "Accuracy = 0.6363636363636364\n"
     ]
    }
   ],
   "source": [
    "#comparing the probability with The MLPClassifier of Scikit learn\n",
    "\n",
    "from sklearn.neural_network import MLPClassifier\n",
    "\n",
    "clf = MLPClassifier(solver='lbfgs', alpha=1e-5,hidden_layer_sizes=(5, 2), random_state=1)\n",
    "\n",
    "clf.fit(X_train,y_train)\n",
    "y_pred = clf.predict(X_test)\n",
    "print(\"Accuracy = \"+str(accuracy_score(y_pred,y_test)))"
   ]
  }
 ],
 "metadata": {
  "kernelspec": {
   "display_name": "Python 3",
   "language": "python",
   "name": "python3"
  },
  "language_info": {
   "codemirror_mode": {
    "name": "ipython",
    "version": 3
   },
   "file_extension": ".py",
   "mimetype": "text/x-python",
   "name": "python",
   "nbconvert_exporter": "python",
   "pygments_lexer": "ipython3",
   "version": "3.7.3"
  }
 },
 "nbformat": 4,
 "nbformat_minor": 2
}
