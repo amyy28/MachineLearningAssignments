{
 "cells": [
  {
   "cell_type": "code",
   "execution_count": 208,
   "metadata": {},
   "outputs": [],
   "source": [
    "\n",
    "import pandas as pd \n",
    "import random\n",
    "import numpy as np\n",
    "from sklearn.model_selection import train_test_split\n",
    "\n",
    "  \n",
    " \n",
    "data = {'Feature1':[random.uniform(0, 6) for i in range(100)], 'Feature2':[random.uniform(0, 6) for i in range(100)], 'Feature3':[random.uniform(0, 6) for i in range(100)], 'Feature4':[random.uniform(0,6) for i in range(100)],'Output':[round(random.random()) for i in range(100)]} \n",
    "  \n",
    "\n",
    "df = pd.DataFrame(data) \n",
    "  \n",
    "\n",
    "df.to_csv(\"dataset.csv\",index=False)"
   ]
  },
  {
   "cell_type": "code",
   "execution_count": 209,
   "metadata": {},
   "outputs": [
    {
     "data": {
      "text/html": [
       "<div>\n",
       "<style scoped>\n",
       "    .dataframe tbody tr th:only-of-type {\n",
       "        vertical-align: middle;\n",
       "    }\n",
       "\n",
       "    .dataframe tbody tr th {\n",
       "        vertical-align: top;\n",
       "    }\n",
       "\n",
       "    .dataframe thead th {\n",
       "        text-align: right;\n",
       "    }\n",
       "</style>\n",
       "<table border=\"1\" class=\"dataframe\">\n",
       "  <thead>\n",
       "    <tr style=\"text-align: right;\">\n",
       "      <th></th>\n",
       "      <th>Feature1</th>\n",
       "      <th>Feature2</th>\n",
       "      <th>Feature3</th>\n",
       "      <th>Feature4</th>\n",
       "      <th>Output</th>\n",
       "    </tr>\n",
       "  </thead>\n",
       "  <tbody>\n",
       "    <tr>\n",
       "      <th>0</th>\n",
       "      <td>4.022811</td>\n",
       "      <td>4.161103</td>\n",
       "      <td>1.603572</td>\n",
       "      <td>5.293887</td>\n",
       "      <td>0</td>\n",
       "    </tr>\n",
       "    <tr>\n",
       "      <th>1</th>\n",
       "      <td>5.963335</td>\n",
       "      <td>1.846352</td>\n",
       "      <td>4.446231</td>\n",
       "      <td>4.105410</td>\n",
       "      <td>0</td>\n",
       "    </tr>\n",
       "    <tr>\n",
       "      <th>2</th>\n",
       "      <td>5.104148</td>\n",
       "      <td>1.311937</td>\n",
       "      <td>2.675536</td>\n",
       "      <td>5.032620</td>\n",
       "      <td>0</td>\n",
       "    </tr>\n",
       "    <tr>\n",
       "      <th>3</th>\n",
       "      <td>3.267742</td>\n",
       "      <td>1.820926</td>\n",
       "      <td>5.261033</td>\n",
       "      <td>1.375028</td>\n",
       "      <td>0</td>\n",
       "    </tr>\n",
       "    <tr>\n",
       "      <th>4</th>\n",
       "      <td>2.211775</td>\n",
       "      <td>0.401468</td>\n",
       "      <td>5.787743</td>\n",
       "      <td>3.124488</td>\n",
       "      <td>1</td>\n",
       "    </tr>\n",
       "  </tbody>\n",
       "</table>\n",
       "</div>"
      ],
      "text/plain": [
       "   Feature1  Feature2  Feature3  Feature4  Output\n",
       "0  4.022811  4.161103  1.603572  5.293887       0\n",
       "1  5.963335  1.846352  4.446231  4.105410       0\n",
       "2  5.104148  1.311937  2.675536  5.032620       0\n",
       "3  3.267742  1.820926  5.261033  1.375028       0\n",
       "4  2.211775  0.401468  5.787743  3.124488       1"
      ]
     },
     "execution_count": 209,
     "metadata": {},
     "output_type": "execute_result"
    }
   ],
   "source": [
    "df = pd.read_csv(\"dataset.csv\")\n",
    "df.head()\n",
    "\n"
   ]
  },
  {
   "cell_type": "code",
   "execution_count": 7,
   "metadata": {
    "scrolled": true
   },
   "outputs": [
    {
     "name": "stdout",
     "output_type": "stream",
     "text": [
      "[1.0, 0.04033379594198627, 0.6398880454793751, 0.15746160764079975, 0.40340854896409184, 0.5767533060451003, 0.3680051663234345, 0.5772589823383645, 0.28699489843253145, 0.7662260268769597, 0.13336333703137593, 0.2981120201132844, 0.9009358129481501, 0.08470408734638157, 0.2584800798036522, 0.8842319731083319, 0.9329296184987783, 0.20914297238483837, 0.1380044340191552, 0.08142963752007071, 0.15267492721007525, 0.34113392579021073, 0.6110859205004238, 0.3549383443929207, 0.8582543406302913, 0.7084465057096676, 0.4580125237851007, 0.7605741687385431, 0.4956460260908576, 0.5524466381560565, 0.12400802094891772, 0.42320341928906136, 0.7258002734448308, 0.8280394677712344, 0.29003235939048067, 0.3618934281365559, 0.3588884400258989, 0.5404490676229285, 0.425967571107021, 0.18953426195291367, 0.14700336014963133, 0.5304433993489749, 0.9343777903129973, 0.2637089014715982, 0.14416531632825724, 0.12792849384884408, 0.9833805819691224, 0.08249166039032974, 0.2544241755570801, 0.8873181993690875, 0.9295430893898823, 0.2568274296561074, 0.6788205528772371, 0.8683230094898964, 0.9948322805274692, 0.33660824698213176, 0.019165882067728846, 0.8181981294139855, 0.6117790098893392, 0.04398108622603758, 0.7272817624427117, 0.9305009710387907, 0.0012380047436746366, 0.3646754125286602, 0.010343033331620899, 0.2225646022930774, 0.41263205057197505, 0.4069099330793001, 0.6788641775569126, 0.5176279917126536, 0.22794687310403305, 0.9296367636098918, 0.009867167785286401, 0.4398702610917562, 0.9096448589268591, 0.15977324380960167, 0.3445011665336494, 0.8451871726966261, 0.30281289022209945, 0.5867502922135232, 0.3848612507753345, 0.9197087026285352, 0.3670003444762385, 0.9494085060915346, 0.6311584282737988, 0.701499571024859, 0.7818699118482436, 0.38111403473996586, 0.09337595020921474, 0.7808360395592758, 0.9217973623248844, 0.009671816379967058, 0.12176730630994459, 0.23983416793090817, 0.6643663596143168, 0.598191087286935, 0.9596562932981314, 0.1989516541234071, 0.5074647159666175, 0.9637188517353811, 0.4858015179819819]\n"
     ]
    }
   ],
   "source": [
    "#generate weights\n",
    "\n",
    "weight = [random.random() for i in range(101)]\n",
    "weight[0] = 1.0\n",
    "\n",
    "#print weight\n",
    "\n",
    "print(weight)\n"
   ]
  },
  {
   "cell_type": "code",
   "execution_count": 222,
   "metadata": {},
   "outputs": [
    {
     "ename": "NameError",
     "evalue": "name 'train_test_split' is not defined",
     "output_type": "error",
     "traceback": [
      "\u001b[1;31m---------------------------------------------------------------------------\u001b[0m",
      "\u001b[1;31mNameError\u001b[0m                                 Traceback (most recent call last)",
      "\u001b[1;32m<ipython-input-222-4986f67b1f79>\u001b[0m in \u001b[0;36m<module>\u001b[1;34m\u001b[0m\n\u001b[0;32m     36\u001b[0m     \u001b[0mX\u001b[0m \u001b[1;33m=\u001b[0m \u001b[0mdf\u001b[0m\u001b[1;33m.\u001b[0m\u001b[0mdrop\u001b[0m\u001b[1;33m(\u001b[0m\u001b[1;34m'Output'\u001b[0m\u001b[1;33m,\u001b[0m\u001b[0maxis\u001b[0m\u001b[1;33m=\u001b[0m\u001b[1;36m1\u001b[0m\u001b[1;33m)\u001b[0m\u001b[1;33m.\u001b[0m\u001b[0mvalues\u001b[0m\u001b[1;33m\u001b[0m\u001b[1;33m\u001b[0m\u001b[0m\n\u001b[0;32m     37\u001b[0m \u001b[1;33m\u001b[0m\u001b[0m\n\u001b[1;32m---> 38\u001b[1;33m     \u001b[0mX_train\u001b[0m\u001b[1;33m,\u001b[0m \u001b[0mX_test\u001b[0m\u001b[1;33m,\u001b[0m \u001b[0my_train\u001b[0m\u001b[1;33m,\u001b[0m \u001b[0my_test\u001b[0m \u001b[1;33m=\u001b[0m \u001b[0mtrain_test_split\u001b[0m\u001b[1;33m(\u001b[0m\u001b[0mX\u001b[0m\u001b[1;33m,\u001b[0m\u001b[0md\u001b[0m\u001b[1;33m,\u001b[0m \u001b[0mtest_size\u001b[0m\u001b[1;33m=\u001b[0m\u001b[1;36m0.33\u001b[0m\u001b[1;33m,\u001b[0m \u001b[0mrandom_state\u001b[0m\u001b[1;33m=\u001b[0m\u001b[1;36m42\u001b[0m\u001b[1;33m)\u001b[0m\u001b[1;33m\u001b[0m\u001b[1;33m\u001b[0m\u001b[0m\n\u001b[0m\u001b[0;32m     39\u001b[0m \u001b[1;33m\u001b[0m\u001b[0m\n\u001b[0;32m     40\u001b[0m     \u001b[0mperceptron\u001b[0m \u001b[1;33m=\u001b[0m \u001b[0mPerceptron\u001b[0m\u001b[1;33m(\u001b[0m\u001b[0minput_size\u001b[0m\u001b[1;33m=\u001b[0m\u001b[1;36m4\u001b[0m\u001b[1;33m)\u001b[0m\u001b[1;33m\u001b[0m\u001b[1;33m\u001b[0m\u001b[0m\n",
      "\u001b[1;31mNameError\u001b[0m: name 'train_test_split' is not defined"
     ]
    }
   ],
   "source": [
    "#perceptron\n",
    "\n",
    "class Perceptron:\n",
    "    def __init__(self,input_size,epochs=100,alpha=1):\n",
    "        self.epochs = epochs\n",
    "        self.alpha = alpha\n",
    "#         self.input_size = input_size\n",
    "        self.weight = np.zeros(input_size+1)\n",
    "    def activation(self,x):\n",
    "        return 1 if x>=0 else 0\n",
    "    def predict(self,x):\n",
    "#         print(self.weight.T)\n",
    "#         print(X)\n",
    "       \n",
    "        z = np.dot(self.weight,x)\n",
    "#         print(z)\n",
    "#         print(self.activation(z))\n",
    "        a = self.activation(z)\n",
    "        return a\n",
    "   \n",
    "        \n",
    "    def learn(self,X,d):\n",
    "        for _ in range(self.epochs):\n",
    "            for i in range(d.shape[0]):\n",
    "                x = np.insert(X[i],0,1)\n",
    "                y = self.predict(x)\n",
    "                e = d[i] - y\n",
    "                self.weight = self.weight + self.alpha*e*x\n",
    "#             print(self.weight)\n",
    "                \n",
    "                \n",
    "if __name__ == '__main__':\n",
    "\n",
    "    \n",
    "    d = df[\"Output\"].values\n",
    "    X = df.drop('Output',axis=1).values\n",
    "    \n",
    "    X_train, X_test, y_train, y_test = train_test_split(X,d, test_size=0.33, random_state=42)\n",
    " \n",
    "    perceptron = Perceptron(input_size=4)\n",
    "    perceptron.learn(X_train,y_train )\n",
    "    print(perceptron.weight)\n",
    "\n",
    "# print(Y)\n",
    "# print(X)\n",
    "\n",
    "\n"
   ]
  },
  {
   "cell_type": "code",
   "execution_count": 221,
   "metadata": {},
   "outputs": [
    {
     "ename": "NameError",
     "evalue": "name 'X_test' is not defined",
     "output_type": "error",
     "traceback": [
      "\u001b[1;31m---------------------------------------------------------------------------\u001b[0m",
      "\u001b[1;31mNameError\u001b[0m                                 Traceback (most recent call last)",
      "\u001b[1;32m<ipython-input-221-2446f07a55d9>\u001b[0m in \u001b[0;36m<module>\u001b[1;34m\u001b[0m\n\u001b[0;32m      3\u001b[0m \u001b[0my_pred\u001b[0m \u001b[1;33m=\u001b[0m \u001b[1;33m[\u001b[0m\u001b[1;33m]\u001b[0m\u001b[1;33m\u001b[0m\u001b[1;33m\u001b[0m\u001b[0m\n\u001b[0;32m      4\u001b[0m \u001b[1;32mfor\u001b[0m \u001b[0mi\u001b[0m \u001b[1;32min\u001b[0m \u001b[0mrange\u001b[0m\u001b[1;33m(\u001b[0m\u001b[0md\u001b[0m\u001b[1;33m.\u001b[0m\u001b[0mshape\u001b[0m\u001b[1;33m[\u001b[0m\u001b[1;36m0\u001b[0m\u001b[1;33m]\u001b[0m\u001b[1;33m)\u001b[0m\u001b[1;33m:\u001b[0m\u001b[1;33m\u001b[0m\u001b[1;33m\u001b[0m\u001b[0m\n\u001b[1;32m----> 5\u001b[1;33m     \u001b[0mx\u001b[0m\u001b[1;33m=\u001b[0m \u001b[0mnp\u001b[0m\u001b[1;33m.\u001b[0m\u001b[0minsert\u001b[0m\u001b[1;33m(\u001b[0m\u001b[0mX_test\u001b[0m\u001b[1;33m[\u001b[0m\u001b[0mi\u001b[0m\u001b[1;33m]\u001b[0m\u001b[1;33m,\u001b[0m\u001b[1;36m0\u001b[0m\u001b[1;33m,\u001b[0m\u001b[1;36m1\u001b[0m\u001b[1;33m)\u001b[0m\u001b[1;33m\u001b[0m\u001b[1;33m\u001b[0m\u001b[0m\n\u001b[0m\u001b[0;32m      6\u001b[0m     \u001b[0my_pred\u001b[0m\u001b[1;33m.\u001b[0m\u001b[0mappend\u001b[0m\u001b[1;33m(\u001b[0m\u001b[0mperceptron\u001b[0m\u001b[1;33m.\u001b[0m\u001b[0mpredict\u001b[0m\u001b[1;33m(\u001b[0m\u001b[1;33m)\u001b[0m\u001b[1;33m)\u001b[0m\u001b[1;33m\u001b[0m\u001b[1;33m\u001b[0m\u001b[0m\n\u001b[0;32m      7\u001b[0m \u001b[1;33m\u001b[0m\u001b[0m\n",
      "\u001b[1;31mNameError\u001b[0m: name 'X_test' is not defined"
     ]
    }
   ],
   "source": [
    "from sklearn.metrics import accuracy_score\n",
    "\n",
    "y_pred = []\n",
    "for i in range(d.shape[0]):\n",
    "    x= np.insert(X_test[i],0,1)\n",
    "    y_pred.append(perceptron.predict())\n",
    "\n",
    "# print(y_pred)\n",
    "print(\"Accuracy = \" +str(accuracy_score(y_test, y_pred)))\n",
    "# perceptron.weight"
   ]
  },
  {
   "cell_type": "code",
   "execution_count": 220,
   "metadata": {},
   "outputs": [
    {
     "name": "stdout",
     "output_type": "stream",
     "text": [
      "Accuracy = 0.63\n"
     ]
    }
   ],
   "source": [
    "#comparing the probability with The MLPClassifier of Scikit learn\n",
    "\n",
    "from sklearn.neural_network import MLPClassifier\n",
    "\n",
    "clf = MLPClassifier(solver='lbfgs', alpha=1e-5,hidden_layer_sizes=(5, 2), random_state=1)\n",
    "\n",
    "clf.fit(X, d)\n",
    "y_pred = clf.predict(X)\n",
    "print(\"Accuracy = \"+str(accuracy_score(d,y_pred)))"
   ]
  }
 ],
 "metadata": {
  "kernelspec": {
   "display_name": "Python 3",
   "language": "python",
   "name": "python3"
  },
  "language_info": {
   "codemirror_mode": {
    "name": "ipython",
    "version": 3
   },
   "file_extension": ".py",
   "mimetype": "text/x-python",
   "name": "python",
   "nbconvert_exporter": "python",
   "pygments_lexer": "ipython3",
   "version": "3.7.3"
  }
 },
 "nbformat": 4,
 "nbformat_minor": 2
}
